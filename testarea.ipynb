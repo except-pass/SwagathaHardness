{
 "cells": [
  {
   "cell_type": "code",
   "execution_count": 7,
   "metadata": {},
   "outputs": [],
   "source": [
    "import logging\n",
    "logger = logging.getLogger()\n",
    "logging.basicConfig(format='%(asctime)s - %(message)s', datefmt='%d-%b-%y %H:%M:%S')        \n",
    "logger.setLevel(logging.DEBUG)\n",
    "import make_me_credits as mmc"
   ]
  },
  {
   "cell_type": "code",
   "execution_count": 8,
   "metadata": {},
   "outputs": [
    {
     "name": "stderr",
     "output_type": "stream",
     "text": [
      "02-Jan-23 19:08:18 - Loading configs {'executable': 'C:\\\\Program Files (x86)\\\\Steam\\\\steamapps\\\\common\\\\MARVEL SNAP\\\\SNAP.exe', 'buttons': {'play': {'x': 0.75, 'y': 0.8, 'pause': 0.5}, 'endturn': {'x': 0.93, 'y': 0.93, 'pause': 0.5}, 'next': {'x': 0.8, 'y': 0.93, 'pause': 0.5}}, 'commands': {'play_super_good': {'cycle_end_pause': 3.5}, 'restart_snap': {'restart_every': 100}, 'parse_log_files': {'path_to_log_files': '~\\\\AppData\\\\LocalLow\\\\Second Dinner\\\\SNAP\\\\Standalone\\\\States\\\\nvprod'}, 'save_state_files': {'path_to_log_files': '~\\\\AppData\\\\LocalLow\\\\Second Dinner\\\\SNAP\\\\Standalone\\\\States\\\\nvprod', 'save_every': 5}}}\n"
     ]
    }
   ],
   "source": [
    "config_fpath=\"configs/wills_laptop.yaml\"\n",
    "aga = mmc.Agatha(configs=mmc.load_config_file(config_fpath), start_client=False)"
   ]
  },
  {
   "cell_type": "code",
   "execution_count": 9,
   "metadata": {},
   "outputs": [
    {
     "name": "stderr",
     "output_type": "stream",
     "text": [
      "02-Jan-23 19:08:21 - Saving the log files to C:\\Users\\gathr\\Documents\\repos\\swagatha\\gamestates\\1672704501\n"
     ]
    }
   ],
   "source": [
    "import pathlib\n",
    "from pathlib import Path\n",
    "import time\n",
    "import shutil\n",
    "\n",
    "\n",
    "aga.save_state_files()\n"
   ]
  },
  {
   "cell_type": "code",
   "execution_count": 10,
   "metadata": {},
   "outputs": [
    {
     "name": "stderr",
     "output_type": "stream",
     "text": [
      "02-Jan-23 19:08:24 - Clicking Button(x=0.8, y=0.93, pause=0.5)\n"
     ]
    }
   ],
   "source": [
    "ss = aga.screen.size\n",
    "n = aga.screen.next\n",
    "\n",
    "n.x =0.8\n",
    "n.y=0.93\n",
    "n.click(ss)"
   ]
  }
 ],
 "metadata": {
  "kernelspec": {
   "display_name": ".venv",
   "language": "python",
   "name": "python3"
  },
  "language_info": {
   "codemirror_mode": {
    "name": "ipython",
    "version": 3
   },
   "file_extension": ".py",
   "mimetype": "text/x-python",
   "name": "python",
   "nbconvert_exporter": "python",
   "pygments_lexer": "ipython3",
   "version": "3.8.7"
  },
  "orig_nbformat": 4,
  "vscode": {
   "interpreter": {
    "hash": "3713f5bbf4915b59635be6cdca8d69112f03810fef72820d00bbfe6dafc48ca4"
   }
  }
 },
 "nbformat": 4,
 "nbformat_minor": 2
}
