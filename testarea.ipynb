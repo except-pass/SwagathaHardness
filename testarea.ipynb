{
 "cells": [
  {
   "cell_type": "code",
   "execution_count": 1,
   "metadata": {},
   "outputs": [],
   "source": [
    "import make_me_credits as mmc"
   ]
  },
  {
   "cell_type": "code",
   "execution_count": 2,
   "metadata": {},
   "outputs": [],
   "source": [
    "config_fpath=\"configs/wills_laptop.yaml\"\n",
    "aga = mmc.Agatha(configs=mmc.load_config_file(config_fpath), start_client=False)"
   ]
  },
  {
   "cell_type": "code",
   "execution_count": 7,
   "metadata": {},
   "outputs": [],
   "source": [
    "ss = aga.screen.size\n",
    "n = aga.screen.next\n",
    "\n",
    "n.x =0.8\n",
    "n.y=0.93\n",
    "n.click(ss)"
   ]
  }
 ],
 "metadata": {
  "kernelspec": {
   "display_name": ".venv",
   "language": "python",
   "name": "python3"
  },
  "language_info": {
   "codemirror_mode": {
    "name": "ipython",
    "version": 3
   },
   "file_extension": ".py",
   "mimetype": "text/x-python",
   "name": "python",
   "nbconvert_exporter": "python",
   "pygments_lexer": "ipython3",
   "version": "3.8.7 (tags/v3.8.7:6503f05, Dec 21 2020, 17:59:51) [MSC v.1928 64 bit (AMD64)]"
  },
  "orig_nbformat": 4,
  "vscode": {
   "interpreter": {
    "hash": "3713f5bbf4915b59635be6cdca8d69112f03810fef72820d00bbfe6dafc48ca4"
   }
  }
 },
 "nbformat": 4,
 "nbformat_minor": 2
}
